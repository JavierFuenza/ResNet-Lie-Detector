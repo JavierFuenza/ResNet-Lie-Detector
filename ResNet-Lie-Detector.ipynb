{
 "cells": [
  {
   "cell_type": "markdown",
   "id": "2e1c8217",
   "metadata": {},
   "source": [
    "# ResNet-Lie-Detector"
   ]
  },
  {
   "cell_type": "markdown",
   "id": "954093f1",
   "metadata": {},
   "source": [
    "---\n",
    "\n",
    "Javier Fuenzalida\n",
    "\n",
    "Tomas Herrera\n",
    "\n",
    "---\n",
    "\n",
    "Notebook para detectar mentiras utilizando una red neuronal tipo ResNet y entrenada con el set de datos:\n",
    "Micro Expression Dataset for Lie Detection (https://www.kaggle.com/datasets/devvratmathur/micro-expression-dataset-for-lie-detection)\n",
    "\n"
   ]
  },
  {
   "cell_type": "markdown",
   "id": "cc564aaf",
   "metadata": {},
   "source": [
    "## Importacion de librerias"
   ]
  },
  {
   "cell_type": "code",
   "execution_count": null,
   "id": "f38bd061",
   "metadata": {},
   "outputs": [],
   "source": [
    "import kagglehub\n",
    "import matplotlib.pyplot as plt\n",
    "import numpy as np\n",
    "import seaborn as sns\n",
    "import tensorflow as tf\n",
    "from keras import layers, models\n",
    "from sklearn.model_selection import train_test_split\n"
   ]
  },
  {
   "cell_type": "markdown",
   "id": "913827a9",
   "metadata": {},
   "source": [
    "## Importacion del Dataset"
   ]
  },
  {
   "cell_type": "code",
   "execution_count": 5,
   "id": "ba53a471",
   "metadata": {},
   "outputs": [
    {
     "name": "stdout",
     "output_type": "stream",
     "text": [
      "Warning: Looks like you're using an outdated `kagglehub` version, please consider updating (latest version: 0.3.12)\n",
      "Downloading from https://www.kaggle.com/api/v1/datasets/download/devvratmathur/micro-expression-dataset-for-lie-detection?dataset_version_number=3...\n"
     ]
    },
    {
     "name": "stderr",
     "output_type": "stream",
     "text": [
      "100%|██████████| 7.73G/7.73G [05:11<00:00, 26.7MB/s]  "
     ]
    },
    {
     "name": "stdout",
     "output_type": "stream",
     "text": [
      "Extracting model files...\n"
     ]
    },
    {
     "name": "stderr",
     "output_type": "stream",
     "text": [
      "\n"
     ]
    },
    {
     "name": "stdout",
     "output_type": "stream",
     "text": [
      "Path to dataset files: /home/jfuenzalida/.cache/kagglehub/datasets/devvratmathur/micro-expression-dataset-for-lie-detection/versions/3\n"
     ]
    }
   ],
   "source": [
    "path = kagglehub.dataset_download(\"devvratmathur/micro-expression-dataset-for-lie-detection\")\n",
    "\n",
    "print(\"Path to dataset files:\", path)"
   ]
  },
  {
   "cell_type": "code",
   "execution_count": 8,
   "id": "d71107f8",
   "metadata": {},
   "outputs": [
    {
     "name": "stdout",
     "output_type": "stream",
     "text": [
      "Path to train files: /home/jfuenzalida/.cache/kagglehub/datasets/devvratmathur/micro-expression-dataset-for-lie-detection/versions/3/Train/Train\n",
      "Path to test files: /home/jfuenzalida/.cache/kagglehub/datasets/devvratmathur/micro-expression-dataset-for-lie-detection/versions/3/Test/Test\n"
     ]
    }
   ],
   "source": [
    "train_path = path + \"/Train/Train\"\n",
    "test_path = path + \"/Test/Test\"\n",
    "\n",
    "print(\"Path to train files:\", train_path)\n",
    "print(\"Path to test files:\", test_path)"
   ]
  },
  {
   "cell_type": "code",
   "execution_count": null,
   "id": "7049f078",
   "metadata": {},
   "outputs": [],
   "source": []
  }
 ],
 "metadata": {
  "kernelspec": {
   "display_name": "ml_dl",
   "language": "python",
   "name": "python3"
  },
  "language_info": {
   "codemirror_mode": {
    "name": "ipython",
    "version": 3
   },
   "file_extension": ".py",
   "mimetype": "text/x-python",
   "name": "python",
   "nbconvert_exporter": "python",
   "pygments_lexer": "ipython3",
   "version": "3.9.21"
  }
 },
 "nbformat": 4,
 "nbformat_minor": 5
}
